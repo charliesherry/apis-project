{
 "cells": [
  {
   "cell_type": "code",
   "execution_count": 1,
   "metadata": {},
   "outputs": [],
   "source": [
    "import pandas as pd\n",
    "import numpy as np\n",
    "import requests\n",
    "import regex as re\n",
    "import matplotlib.pyplot as plt\n",
    "import seaborn as sns\n",
    "import argparse"
   ]
  },
  {
   "cell_type": "code",
   "execution_count": 2,
   "metadata": {},
   "outputs": [],
   "source": [
    "def clean():\n",
    "    \"\"\"\n",
    "    In this function we clean up our database\n",
    "    \"\"\"\n",
    "    import pandas as pd\n",
    "    test = pd.read_csv(\"Input/dato.csv\")\n",
    "    test[\"NA_Sales\"]= test[\"NA_Sales\"].apply(lambda x: x.replace(\",\",\".\"))\n",
    "    test[\"EU_Sales\"]=test[\"EU_Sales\"].apply(lambda x: x.replace(\",\",\".\"))\n",
    "    test[\"JP_Sales\"]=test[\"JP_Sales\"].apply(lambda x: x.replace(\",\",\".\"))\n",
    "    test[\"Other_Sales\"]=test[\"Other_Sales\"].apply(lambda x: x.replace(\",\",\".\"))\n",
    "    test[\"Global_Sales\"]=test[\"Global_Sales\"].apply(lambda x: x.replace(\",\",\".\"))\n",
    "    test[\"NA_Sales\"]=[float(x) for x in test[\"NA_Sales\"]]\n",
    "    test[\"EU_Sales\"]=[float(x) for x in test[\"EU_Sales\"]]\n",
    "    test[\"JP_Sales\"]=[float(x) for x in test[\"JP_Sales\"]]\n",
    "    test[\"Other_Sales\"]=[float(x) for x in test[\"Other_Sales\"]]\n",
    "    test[\"Global_Sales\"]=[float(x) for x in test[\"Global_Sales\"]]\n",
    "    return test\n",
    "    "
   ]
  },
  {
   "cell_type": "code",
   "execution_count": 3,
   "metadata": {},
   "outputs": [],
   "source": [
    "def releasedate(x=3498):\n",
    "    \"\"\"\n",
    "    We obtain the release date of any game\n",
    "    Some ID number examples: 3498,4200,3328,5286,5679,12020,802,4062,13536,3439,4291\n",
    "    \"\"\"\n",
    "    url= f\"https://api.rawg.io/api/games/{x}\"\n",
    "    res = requests.get(url)\n",
    "    result = res.json()\n",
    "    print(result[\"name\"])\n",
    "    return result[\"released\"]"
   ]
  },
  {
   "cell_type": "code",
   "execution_count": 4,
   "metadata": {},
   "outputs": [],
   "source": [
    "def apis(x):\n",
    "    \"\"\"\n",
    "    This function is to automatize the request to the API\n",
    "    \"\"\"\n",
    "    url=f\"https://api.rawg.io/api/games/{x}\"\n",
    "    response = requests.get(url)\n",
    "    results= response.json()\n",
    "    return results"
   ]
  },
  {
   "cell_type": "code",
   "execution_count": 5,
   "metadata": {},
   "outputs": [],
   "source": [
    "def gamestatistics(x):\n",
    "    \"\"\"\n",
    "    This function returns the statistics of a certain game.\n",
    "    You have to insert the ID number of this game\n",
    "    Some ID number examples: 3498,4200,3328,5286,5679,12020,802,4062,13536,3439,4291\n",
    "    \"\"\"\n",
    "    result = apis(x)\n",
    "    rating = result[\"rating\"]\n",
    "    name = result[\"name\"]\n",
    "    print(f\"{name} has a rating of {rating}\")\n",
    "    website=result[\"website\"]\n",
    "    print(f\"In order to visit the website, enter the following link {website}\")"
   ]
  },
  {
   "cell_type": "code",
   "execution_count": 6,
   "metadata": {},
   "outputs": [],
   "source": [
    "def platforms(idnumber):\n",
    "    \"\"\"\n",
    "    This function returns specifications for each console, the id number can be found in the list below:\n",
    "    [PS2 = 15; X360 = 14; PS3 = 16; X= 180; Wii = 11; DS = 9; PSP = 17; PS4 = 18; GBA = 24; XONE= 1; 3DS= 8;\n",
    "    PS = 27; PSV= 19; WiiU= 10]\n",
    "    \"\"\"\n",
    "    res = requests.get(f\"https://api.rawg.io/api/platforms/{idnumber}\")\n",
    "    results = res.json()\n",
    "    name = results[\"name\"]\n",
    "    print(f\"The name of the platform is {name}\")\n",
    "    games = results[\"games_count\"]\n",
    "    print(f\"The total games on this platform is {games}\")\n",
    "    desc = results[\"description\"]\n",
    "    a = input(\"Do you want a description of this platform? (Y/N)\")\n",
    "    if a == \"Y\":\n",
    "        print(f\"{desc}\")\n",
    "    else:\n",
    "        print(\"Okay MR.I HAVE NO TIME!\")\n",
    "    "
   ]
  },
  {
   "cell_type": "code",
   "execution_count": 7,
   "metadata": {},
   "outputs": [],
   "source": [
    "def regionsales(x):\n",
    "    \"\"\"\n",
    "    This functios gives us the total sales of the three major gaming regions.\n",
    "    Please enter the region inside a string, e.g regionsales(\"EU\")\n",
    "    Regions = \"EU\", \"JP\", \"NA\"\n",
    "    \"\"\"\n",
    "    a =  test[f\"{x}_Sales\"].sum()\n",
    "    print(f\"{x} has a total of {a} sales (In Millions)\")\n",
    "    "
   ]
  },
  {
   "cell_type": "code",
   "execution_count": 8,
   "metadata": {},
   "outputs": [],
   "source": [
    "def parse():\n",
    "    '''\n",
    "    We define the arguments to parse\n",
    "    '''\n",
    "    parser = argparse.ArgumentParser(description='Programa para la inmersión en los videojuegos')\n",
    "    parser.add_argument('-s', dest='nombre',\n",
    "                        default='jugador desconocido',\n",
    "                        required=True,\n",
    "                        help=\"Añade tu nombre aqui\")\n",
    "    group = parser.add_mutually_exclusive_group()                   \n",
    "    group.add_argument('-p', dest='Plataforma',\n",
    "                        default=18,\n",
    "                        required=False, \n",
    "                        help='La plataforma de la cual queremos info')\n",
    "    group.add_argument('-j', dest='Juego',\n",
    "                        default=3498,\n",
    "                        required=False, \n",
    "                        help='El juego del cual queremos saber más')\n",
    "    group.add_argument('-r', dest='Region',\n",
    "                        default=\"EU\",\n",
    "                        required=False,\n",
    "                        help=\"Región de la cual queremos saber sus ventas totales\")\n",
    "                        \n",
    "    args = parser.parse_args()\n",
    "    return args"
   ]
  },
  {
   "cell_type": "code",
   "execution_count": null,
   "metadata": {},
   "outputs": [],
   "source": []
  }
 ],
 "metadata": {
  "kernelspec": {
   "display_name": "Python 3",
   "language": "python",
   "name": "python3"
  },
  "language_info": {
   "codemirror_mode": {
    "name": "ipython",
    "version": 3
   },
   "file_extension": ".py",
   "mimetype": "text/x-python",
   "name": "python",
   "nbconvert_exporter": "python",
   "pygments_lexer": "ipython3",
   "version": "3.8.5"
  }
 },
 "nbformat": 4,
 "nbformat_minor": 4
}
